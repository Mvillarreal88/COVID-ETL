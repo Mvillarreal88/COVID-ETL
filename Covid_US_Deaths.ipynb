{
 "cells": [
  {
   "cell_type": "code",
   "execution_count": 1,
   "metadata": {},
   "outputs": [],
   "source": [
    "import pandas as pd\n",
    "\n",
    "import requests\n",
    "\n",
    "import os\n",
    "import urllib, json"
   ]
  },
  {
   "cell_type": "code",
   "execution_count": 2,
   "metadata": {},
   "outputs": [
    {
     "data": {
      "text/plain": [
       "Index(['FIPS', 'StateAbbreviation', 'StateName', 'Date', 'StateReportedDate',\n",
       "       'TotalHospToDate', 'TotalInICUToDate', 'CurrentHospitalizations',\n",
       "       'CurrentlyInICU', 'CurrentlyOnVentilator', 'TotalDeaths'],\n",
       "      dtype='object')"
      ]
     },
     "execution_count": 2,
     "metadata": {},
     "output_type": "execute_result"
    }
   ],
   "source": [
    "#  https://covid.ourworldindata\n",
    "    \n",
    "    \n",
    "data = json.load(open('Resources/hospitalizations.json'))\n",
    "\n",
    "js_df = pd.DataFrame(data[\"data\"])\n",
    "\n",
    "\n",
    "js_df.columns\n"
   ]
  },
  {
   "cell_type": "code",
   "execution_count": 3,
   "metadata": {},
   "outputs": [
    {
     "data": {
      "text/html": [
       "<div>\n",
       "<style scoped>\n",
       "    .dataframe tbody tr th:only-of-type {\n",
       "        vertical-align: middle;\n",
       "    }\n",
       "\n",
       "    .dataframe tbody tr th {\n",
       "        vertical-align: top;\n",
       "    }\n",
       "\n",
       "    .dataframe thead th {\n",
       "        text-align: right;\n",
       "    }\n",
       "</style>\n",
       "<table border=\"1\" class=\"dataframe\">\n",
       "  <thead>\n",
       "    <tr style=\"text-align: right;\">\n",
       "      <th></th>\n",
       "      <th>StateName</th>\n",
       "      <th>Date</th>\n",
       "      <th>TotalDeaths</th>\n",
       "    </tr>\n",
       "  </thead>\n",
       "  <tbody>\n",
       "    <tr>\n",
       "      <th>0</th>\n",
       "      <td>Alaska</td>\n",
       "      <td>2021-09-19T00:00:00.000Z</td>\n",
       "      <td>454.0</td>\n",
       "    </tr>\n",
       "    <tr>\n",
       "      <th>1</th>\n",
       "      <td>Alaska</td>\n",
       "      <td>2021-09-18T00:00:00.000Z</td>\n",
       "      <td>454.0</td>\n",
       "    </tr>\n",
       "    <tr>\n",
       "      <th>2</th>\n",
       "      <td>Alaska</td>\n",
       "      <td>2021-09-17T00:00:00.000Z</td>\n",
       "      <td>454.0</td>\n",
       "    </tr>\n",
       "    <tr>\n",
       "      <th>3</th>\n",
       "      <td>Alaska</td>\n",
       "      <td>2021-09-16T00:00:00.000Z</td>\n",
       "      <td>453.0</td>\n",
       "    </tr>\n",
       "    <tr>\n",
       "      <th>4</th>\n",
       "      <td>Alaska</td>\n",
       "      <td>2021-09-15T00:00:00.000Z</td>\n",
       "      <td>453.0</td>\n",
       "    </tr>\n",
       "    <tr>\n",
       "      <th>...</th>\n",
       "      <td>...</td>\n",
       "      <td>...</td>\n",
       "      <td>...</td>\n",
       "    </tr>\n",
       "    <tr>\n",
       "      <th>28030</th>\n",
       "      <td>Wyoming</td>\n",
       "      <td>2020-03-26T00:00:00.000Z</td>\n",
       "      <td>NaN</td>\n",
       "    </tr>\n",
       "    <tr>\n",
       "      <th>28031</th>\n",
       "      <td>Wyoming</td>\n",
       "      <td>2020-03-25T00:00:00.000Z</td>\n",
       "      <td>NaN</td>\n",
       "    </tr>\n",
       "    <tr>\n",
       "      <th>28032</th>\n",
       "      <td>Wyoming</td>\n",
       "      <td>2020-03-24T00:00:00.000Z</td>\n",
       "      <td>NaN</td>\n",
       "    </tr>\n",
       "    <tr>\n",
       "      <th>28033</th>\n",
       "      <td>Wyoming</td>\n",
       "      <td>2020-03-23T00:00:00.000Z</td>\n",
       "      <td>NaN</td>\n",
       "    </tr>\n",
       "    <tr>\n",
       "      <th>28034</th>\n",
       "      <td>Wyoming</td>\n",
       "      <td>2020-03-22T00:00:00.000Z</td>\n",
       "      <td>NaN</td>\n",
       "    </tr>\n",
       "  </tbody>\n",
       "</table>\n",
       "<p>28035 rows × 3 columns</p>\n",
       "</div>"
      ],
      "text/plain": [
       "      StateName                      Date  TotalDeaths\n",
       "0        Alaska  2021-09-19T00:00:00.000Z        454.0\n",
       "1        Alaska  2021-09-18T00:00:00.000Z        454.0\n",
       "2        Alaska  2021-09-17T00:00:00.000Z        454.0\n",
       "3        Alaska  2021-09-16T00:00:00.000Z        453.0\n",
       "4        Alaska  2021-09-15T00:00:00.000Z        453.0\n",
       "...         ...                       ...          ...\n",
       "28030   Wyoming  2020-03-26T00:00:00.000Z          NaN\n",
       "28031   Wyoming  2020-03-25T00:00:00.000Z          NaN\n",
       "28032   Wyoming  2020-03-24T00:00:00.000Z          NaN\n",
       "28033   Wyoming  2020-03-23T00:00:00.000Z          NaN\n",
       "28034   Wyoming  2020-03-22T00:00:00.000Z          NaN\n",
       "\n",
       "[28035 rows x 3 columns]"
      ]
     },
     "execution_count": 3,
     "metadata": {},
     "output_type": "execute_result"
    }
   ],
   "source": [
    "jss_df = js_df[['StateName', 'Date', 'TotalDeaths']].copy()\n",
    "\n",
    "\n",
    "jss_df"
   ]
  },
  {
   "cell_type": "code",
   "execution_count": 4,
   "metadata": {},
   "outputs": [
    {
     "data": {
      "text/html": [
       "<div>\n",
       "<style scoped>\n",
       "    .dataframe tbody tr th:only-of-type {\n",
       "        vertical-align: middle;\n",
       "    }\n",
       "\n",
       "    .dataframe tbody tr th {\n",
       "        vertical-align: top;\n",
       "    }\n",
       "\n",
       "    .dataframe thead th {\n",
       "        text-align: right;\n",
       "    }\n",
       "</style>\n",
       "<table border=\"1\" class=\"dataframe\">\n",
       "  <thead>\n",
       "    <tr style=\"text-align: right;\">\n",
       "      <th></th>\n",
       "      <th>StateName</th>\n",
       "      <th>Date</th>\n",
       "      <th>TotalDeaths</th>\n",
       "    </tr>\n",
       "  </thead>\n",
       "  <tbody>\n",
       "    <tr>\n",
       "      <th>0</th>\n",
       "      <td>Alaska</td>\n",
       "      <td>2021-09-19T00:00:00.000Z</td>\n",
       "      <td>454.0</td>\n",
       "    </tr>\n",
       "    <tr>\n",
       "      <th>1</th>\n",
       "      <td>Alaska</td>\n",
       "      <td>2021-09-18T00:00:00.000Z</td>\n",
       "      <td>454.0</td>\n",
       "    </tr>\n",
       "    <tr>\n",
       "      <th>2</th>\n",
       "      <td>Alaska</td>\n",
       "      <td>2021-09-17T00:00:00.000Z</td>\n",
       "      <td>454.0</td>\n",
       "    </tr>\n",
       "    <tr>\n",
       "      <th>3</th>\n",
       "      <td>Alaska</td>\n",
       "      <td>2021-09-16T00:00:00.000Z</td>\n",
       "      <td>453.0</td>\n",
       "    </tr>\n",
       "    <tr>\n",
       "      <th>4</th>\n",
       "      <td>Alaska</td>\n",
       "      <td>2021-09-15T00:00:00.000Z</td>\n",
       "      <td>453.0</td>\n",
       "    </tr>\n",
       "    <tr>\n",
       "      <th>...</th>\n",
       "      <td>...</td>\n",
       "      <td>...</td>\n",
       "      <td>...</td>\n",
       "    </tr>\n",
       "    <tr>\n",
       "      <th>28023</th>\n",
       "      <td>Wyoming</td>\n",
       "      <td>2020-04-02T00:00:00.000Z</td>\n",
       "      <td>0.0</td>\n",
       "    </tr>\n",
       "    <tr>\n",
       "      <th>28024</th>\n",
       "      <td>Wyoming</td>\n",
       "      <td>2020-04-01T00:00:00.000Z</td>\n",
       "      <td>0.0</td>\n",
       "    </tr>\n",
       "    <tr>\n",
       "      <th>28025</th>\n",
       "      <td>Wyoming</td>\n",
       "      <td>2020-03-31T00:00:00.000Z</td>\n",
       "      <td>0.0</td>\n",
       "    </tr>\n",
       "    <tr>\n",
       "      <th>28026</th>\n",
       "      <td>Wyoming</td>\n",
       "      <td>2020-03-30T00:00:00.000Z</td>\n",
       "      <td>0.0</td>\n",
       "    </tr>\n",
       "    <tr>\n",
       "      <th>28027</th>\n",
       "      <td>Wyoming</td>\n",
       "      <td>2020-03-29T00:00:00.000Z</td>\n",
       "      <td>0.0</td>\n",
       "    </tr>\n",
       "  </tbody>\n",
       "</table>\n",
       "<p>27936 rows × 3 columns</p>\n",
       "</div>"
      ],
      "text/plain": [
       "      StateName                      Date  TotalDeaths\n",
       "0        Alaska  2021-09-19T00:00:00.000Z        454.0\n",
       "1        Alaska  2021-09-18T00:00:00.000Z        454.0\n",
       "2        Alaska  2021-09-17T00:00:00.000Z        454.0\n",
       "3        Alaska  2021-09-16T00:00:00.000Z        453.0\n",
       "4        Alaska  2021-09-15T00:00:00.000Z        453.0\n",
       "...         ...                       ...          ...\n",
       "28023   Wyoming  2020-04-02T00:00:00.000Z          0.0\n",
       "28024   Wyoming  2020-04-01T00:00:00.000Z          0.0\n",
       "28025   Wyoming  2020-03-31T00:00:00.000Z          0.0\n",
       "28026   Wyoming  2020-03-30T00:00:00.000Z          0.0\n",
       "28027   Wyoming  2020-03-29T00:00:00.000Z          0.0\n",
       "\n",
       "[27936 rows x 3 columns]"
      ]
     },
     "execution_count": 4,
     "metadata": {},
     "output_type": "execute_result"
    }
   ],
   "source": [
    "states_deaths_df = jss_df.dropna()\n",
    "# state_death_rates_clean_df\n",
    "\n",
    "states_deaths_df "
   ]
  },
  {
   "cell_type": "code",
   "execution_count": 5,
   "metadata": {},
   "outputs": [],
   "source": [
    "# Imports\n",
    "import pandas as pd\n",
    "import pymongo\n",
    "from pymongo import MongoClient"
   ]
  },
  {
   "cell_type": "code",
   "execution_count": 6,
   "metadata": {},
   "outputs": [],
   "source": [
    "conn = 'mongodb://localhost:27017'\n",
    "client = pymongo.MongoClient(conn)"
   ]
  },
  {
   "cell_type": "code",
   "execution_count": 7,
   "metadata": {},
   "outputs": [
    {
     "data": {
      "text/plain": [
       "Database(MongoClient(host=['localhost:27017'], document_class=dict, tz_aware=False, connect=True), 'US_deaths')"
      ]
     },
     "execution_count": 7,
     "metadata": {},
     "output_type": "execute_result"
    }
   ],
   "source": [
    "\n",
    "db = client.US_deaths\n",
    "db\n"
   ]
  },
  {
   "cell_type": "code",
   "execution_count": 8,
   "metadata": {},
   "outputs": [],
   "source": [
    "states_death_rate = db.states_death_rate"
   ]
  },
  {
   "cell_type": "code",
   "execution_count": 9,
   "metadata": {},
   "outputs": [
    {
     "data": {
      "text/plain": [
       "<pymongo.results.InsertManyResult at 0x1d8f01cd5c8>"
      ]
     },
     "execution_count": 9,
     "metadata": {},
     "output_type": "execute_result"
    }
   ],
   "source": [
    "db.states_death_rate.insert_many(states_deaths_df.to_dict('records'))"
   ]
  },
  {
   "cell_type": "code",
   "execution_count": null,
   "metadata": {},
   "outputs": [],
   "source": []
  },
  {
   "cell_type": "code",
   "execution_count": null,
   "metadata": {},
   "outputs": [],
   "source": []
  }
 ],
 "metadata": {
  "kernelspec": {
   "display_name": "Python 3",
   "language": "python",
   "name": "python3"
  },
  "language_info": {
   "codemirror_mode": {
    "name": "ipython",
    "version": 3
   },
   "file_extension": ".py",
   "mimetype": "text/x-python",
   "name": "python",
   "nbconvert_exporter": "python",
   "pygments_lexer": "ipython3",
   "version": "3.6.10"
  }
 },
 "nbformat": 4,
 "nbformat_minor": 5
}
