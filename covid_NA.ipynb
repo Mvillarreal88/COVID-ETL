{
 "cells": [
  {
   "cell_type": "code",
   "execution_count": 9,
   "metadata": {},
   "outputs": [],
   "source": [
    "import pandas as pd\n",
    "from sqlalchemy import create_engine\n"
   ]
  },
  {
   "cell_type": "code",
   "execution_count": 10,
   "metadata": {},
   "outputs": [
    {
     "data": {
      "text/html": [
       "<div>\n",
       "<style scoped>\n",
       "    .dataframe tbody tr th:only-of-type {\n",
       "        vertical-align: middle;\n",
       "    }\n",
       "\n",
       "    .dataframe tbody tr th {\n",
       "        vertical-align: top;\n",
       "    }\n",
       "\n",
       "    .dataframe thead th {\n",
       "        text-align: right;\n",
       "    }\n",
       "</style>\n",
       "<table border=\"1\" class=\"dataframe\">\n",
       "  <thead>\n",
       "    <tr style=\"text-align: right;\">\n",
       "      <th></th>\n",
       "      <th>Country, Other</th>\n",
       "      <th>Total Cases</th>\n",
       "      <th>Total Deaths</th>\n",
       "      <th>Total Recovered</th>\n",
       "      <th>Active Cases</th>\n",
       "      <th>Serious / Critical Condition</th>\n",
       "      <th>Total Cases / 1M Population</th>\n",
       "      <th>Deaths / 1M Population</th>\n",
       "      <th>Total Tests</th>\n",
       "      <th>Tests / 1M Population</th>\n",
       "      <th>Population</th>\n",
       "    </tr>\n",
       "  </thead>\n",
       "  <tbody>\n",
       "    <tr>\n",
       "      <th>0</th>\n",
       "      <td>USA</td>\n",
       "      <td>42,634,054</td>\n",
       "      <td>688,486</td>\n",
       "      <td>32,347,726</td>\n",
       "      <td>9,597,842</td>\n",
       "      <td>25,209</td>\n",
       "      <td>127,897</td>\n",
       "      <td>2,065</td>\n",
       "      <td>615,684,393</td>\n",
       "      <td>1,846,976</td>\n",
       "      <td>333,347,223</td>\n",
       "    </tr>\n",
       "    <tr>\n",
       "      <th>1</th>\n",
       "      <td>Mexico</td>\n",
       "      <td>3,549,229</td>\n",
       "      <td>270,346</td>\n",
       "      <td>2,897,667</td>\n",
       "      <td>381,216</td>\n",
       "      <td>4,798</td>\n",
       "      <td>27,183</td>\n",
       "      <td>2,071</td>\n",
       "      <td>10,302,152</td>\n",
       "      <td>78,903</td>\n",
       "      <td>130,567,887</td>\n",
       "    </tr>\n",
       "    <tr>\n",
       "      <th>2</th>\n",
       "      <td>Canada</td>\n",
       "      <td>1,564,089</td>\n",
       "      <td>27,325</td>\n",
       "      <td>1,493,619</td>\n",
       "      <td>43,145</td>\n",
       "      <td>638</td>\n",
       "      <td>41,007</td>\n",
       "      <td>716</td>\n",
       "      <td>41,861,477</td>\n",
       "      <td>1,097,525</td>\n",
       "      <td>38,141,706</td>\n",
       "    </tr>\n",
       "    <tr>\n",
       "      <th>3</th>\n",
       "      <td>Cuba</td>\n",
       "      <td>776,125</td>\n",
       "      <td>6,601</td>\n",
       "      <td>730,673</td>\n",
       "      <td>38,851</td>\n",
       "      <td>458</td>\n",
       "      <td>68,573</td>\n",
       "      <td>583</td>\n",
       "      <td>8,835,501</td>\n",
       "      <td>780,641</td>\n",
       "      <td>11,318,258</td>\n",
       "    </tr>\n",
       "    <tr>\n",
       "      <th>4</th>\n",
       "      <td>Guatemala</td>\n",
       "      <td>521,093</td>\n",
       "      <td>12,907</td>\n",
       "      <td>468,216</td>\n",
       "      <td>39,970</td>\n",
       "      <td>5</td>\n",
       "      <td>28,452</td>\n",
       "      <td>705</td>\n",
       "      <td>2,373,843</td>\n",
       "      <td>129,612</td>\n",
       "      <td>18,315,046</td>\n",
       "    </tr>\n",
       "  </tbody>\n",
       "</table>\n",
       "</div>"
      ],
      "text/plain": [
       "  Country, Other Total Cases Total Deaths Total Recovered Active Cases  \\\n",
       "0            USA  42,634,054      688,486      32,347,726    9,597,842   \n",
       "1         Mexico   3,549,229      270,346       2,897,667      381,216   \n",
       "2         Canada   1,564,089       27,325       1,493,619       43,145   \n",
       "3           Cuba     776,125        6,601         730,673       38,851   \n",
       "4      Guatemala     521,093       12,907         468,216       39,970   \n",
       "\n",
       "  Serious / Critical Condition Total Cases / 1M Population  \\\n",
       "0                       25,209                     127,897   \n",
       "1                        4,798                      27,183   \n",
       "2                          638                      41,007   \n",
       "3                          458                      68,573   \n",
       "4                            5                      28,452   \n",
       "\n",
       "  Deaths / 1M Population  Total Tests Tests / 1M Population   Population  \n",
       "0                  2,065  615,684,393             1,846,976  333,347,223  \n",
       "1                  2,071   10,302,152                78,903  130,567,887  \n",
       "2                    716   41,861,477             1,097,525   38,141,706  \n",
       "3                    583    8,835,501               780,641   11,318,258  \n",
       "4                    705    2,373,843               129,612   18,315,046  "
      ]
     },
     "execution_count": 10,
     "metadata": {},
     "output_type": "execute_result"
    }
   ],
   "source": [
    "covidNA_file = \"Resources/Covid-NA.csv\"\n",
    "covidNA_df = pd.read_csv(covidNA_file)\n",
    "covidNA_df.head()\n"
   ]
  },
  {
   "cell_type": "code",
   "execution_count": 11,
   "metadata": {},
   "outputs": [
    {
     "data": {
      "text/plain": [
       "Index(['Country, Other', 'Total Cases', 'Total Deaths', 'Total Recovered',\n",
       "       'Active Cases', 'Serious / Critical Condition',\n",
       "       'Total Cases / 1M Population', 'Deaths / 1M Population', 'Total Tests',\n",
       "       'Tests / 1M Population', 'Population'],\n",
       "      dtype='object')"
      ]
     },
     "execution_count": 11,
     "metadata": {},
     "output_type": "execute_result"
    }
   ],
   "source": [
    "covidNA_df.columns\n"
   ]
  },
  {
   "cell_type": "code",
   "execution_count": 12,
   "metadata": {},
   "outputs": [
    {
     "data": {
      "text/html": [
       "<div>\n",
       "<style scoped>\n",
       "    .dataframe tbody tr th:only-of-type {\n",
       "        vertical-align: middle;\n",
       "    }\n",
       "\n",
       "    .dataframe tbody tr th {\n",
       "        vertical-align: top;\n",
       "    }\n",
       "\n",
       "    .dataframe thead th {\n",
       "        text-align: right;\n",
       "    }\n",
       "</style>\n",
       "<table border=\"1\" class=\"dataframe\">\n",
       "  <thead>\n",
       "    <tr style=\"text-align: right;\">\n",
       "      <th></th>\n",
       "      <th>Country, Other</th>\n",
       "      <th>Total Cases</th>\n",
       "      <th>Total Deaths</th>\n",
       "      <th>Total Recovered</th>\n",
       "      <th>Population</th>\n",
       "    </tr>\n",
       "  </thead>\n",
       "  <tbody>\n",
       "    <tr>\n",
       "      <th>0</th>\n",
       "      <td>USA</td>\n",
       "      <td>42,634,054</td>\n",
       "      <td>688,486</td>\n",
       "      <td>32,347,726</td>\n",
       "      <td>333,347,223</td>\n",
       "    </tr>\n",
       "    <tr>\n",
       "      <th>1</th>\n",
       "      <td>Mexico</td>\n",
       "      <td>3,549,229</td>\n",
       "      <td>270,346</td>\n",
       "      <td>2,897,667</td>\n",
       "      <td>130,567,887</td>\n",
       "    </tr>\n",
       "    <tr>\n",
       "      <th>2</th>\n",
       "      <td>Canada</td>\n",
       "      <td>1,564,089</td>\n",
       "      <td>27,325</td>\n",
       "      <td>1,493,619</td>\n",
       "      <td>38,141,706</td>\n",
       "    </tr>\n",
       "    <tr>\n",
       "      <th>3</th>\n",
       "      <td>Cuba</td>\n",
       "      <td>776,125</td>\n",
       "      <td>6,601</td>\n",
       "      <td>730,673</td>\n",
       "      <td>11,318,258</td>\n",
       "    </tr>\n",
       "    <tr>\n",
       "      <th>4</th>\n",
       "      <td>Guatemala</td>\n",
       "      <td>521,093</td>\n",
       "      <td>12,907</td>\n",
       "      <td>468,216</td>\n",
       "      <td>18,315,046</td>\n",
       "    </tr>\n",
       "  </tbody>\n",
       "</table>\n",
       "</div>"
      ],
      "text/plain": [
       "  Country, Other Total Cases Total Deaths Total Recovered   Population\n",
       "0            USA  42,634,054      688,486      32,347,726  333,347,223\n",
       "1         Mexico   3,549,229      270,346       2,897,667  130,567,887\n",
       "2         Canada   1,564,089       27,325       1,493,619   38,141,706\n",
       "3           Cuba     776,125        6,601         730,673   11,318,258\n",
       "4      Guatemala     521,093       12,907         468,216   18,315,046"
      ]
     },
     "execution_count": 12,
     "metadata": {},
     "output_type": "execute_result"
    }
   ],
   "source": [
    "reduced_covidNA_df = covidNA_df[[\"Country, Other\",\"Total Cases\",\"Total Deaths\",\"Total Recovered\",\"Population\"]].copy()\n",
    "\n",
    "reduced_covidNA_df.head()\n"
   ]
  },
  {
   "cell_type": "code",
   "execution_count": 13,
   "metadata": {
    "scrolled": true
   },
   "outputs": [
    {
     "data": {
      "text/html": [
       "<div>\n",
       "<style scoped>\n",
       "    .dataframe tbody tr th:only-of-type {\n",
       "        vertical-align: middle;\n",
       "    }\n",
       "\n",
       "    .dataframe tbody tr th {\n",
       "        vertical-align: top;\n",
       "    }\n",
       "\n",
       "    .dataframe thead th {\n",
       "        text-align: right;\n",
       "    }\n",
       "</style>\n",
       "<table border=\"1\" class=\"dataframe\">\n",
       "  <thead>\n",
       "    <tr style=\"text-align: right;\">\n",
       "      <th></th>\n",
       "      <th>Country</th>\n",
       "      <th>Total_Cases</th>\n",
       "      <th>Total_Deaths</th>\n",
       "      <th>Total_Recovered</th>\n",
       "      <th>Population</th>\n",
       "    </tr>\n",
       "  </thead>\n",
       "  <tbody>\n",
       "    <tr>\n",
       "      <th>0</th>\n",
       "      <td>USA</td>\n",
       "      <td>42,634,054</td>\n",
       "      <td>688,486</td>\n",
       "      <td>32,347,726</td>\n",
       "      <td>333,347,223</td>\n",
       "    </tr>\n",
       "    <tr>\n",
       "      <th>1</th>\n",
       "      <td>Mexico</td>\n",
       "      <td>3,549,229</td>\n",
       "      <td>270,346</td>\n",
       "      <td>2,897,667</td>\n",
       "      <td>130,567,887</td>\n",
       "    </tr>\n",
       "    <tr>\n",
       "      <th>2</th>\n",
       "      <td>Canada</td>\n",
       "      <td>1,564,089</td>\n",
       "      <td>27,325</td>\n",
       "      <td>1,493,619</td>\n",
       "      <td>38,141,706</td>\n",
       "    </tr>\n",
       "    <tr>\n",
       "      <th>3</th>\n",
       "      <td>Cuba</td>\n",
       "      <td>776,125</td>\n",
       "      <td>6,601</td>\n",
       "      <td>730,673</td>\n",
       "      <td>11,318,258</td>\n",
       "    </tr>\n",
       "    <tr>\n",
       "      <th>4</th>\n",
       "      <td>Guatemala</td>\n",
       "      <td>521,093</td>\n",
       "      <td>12,907</td>\n",
       "      <td>468,216</td>\n",
       "      <td>18,315,046</td>\n",
       "    </tr>\n",
       "  </tbody>\n",
       "</table>\n",
       "</div>"
      ],
      "text/plain": [
       "     Country Total_Cases Total_Deaths Total_Recovered   Population\n",
       "0        USA  42,634,054      688,486      32,347,726  333,347,223\n",
       "1     Mexico   3,549,229      270,346       2,897,667  130,567,887\n",
       "2     Canada   1,564,089       27,325       1,493,619   38,141,706\n",
       "3       Cuba     776,125        6,601         730,673   11,318,258\n",
       "4  Guatemala     521,093       12,907         468,216   18,315,046"
      ]
     },
     "execution_count": 13,
     "metadata": {},
     "output_type": "execute_result"
    }
   ],
   "source": [
    "covidNA_transformed_df = reduced_covidNA_df.copy()\n",
    "\n",
    "covidNA_transformed_df = covidNA_transformed_df.rename(columns={\"Country, Other\":\"Country\",\n",
    "                                                                \"Total Cases\":\"Total_Cases\",\n",
    "                                                                \"Total Deaths\":\"Total_Deaths\",\n",
    "                                                                \"Total Recovered\":\"Total_Recovered\"\n",
    "                                                               })\n",
    "\n",
    "covidNA_transformed_df.head()\n"
   ]
  },
  {
   "cell_type": "code",
   "execution_count": 14,
   "metadata": {},
   "outputs": [
    {
     "data": {
      "text/plain": [
       "['USA', 'Mexico', 'Canada']"
      ]
     },
     "execution_count": 14,
     "metadata": {},
     "output_type": "execute_result"
    }
   ],
   "source": [
    "final_covidNA = [\"USA\",\"Mexico\",\"Canada\"]\n",
    "final_covidNA\n"
   ]
  },
  {
   "cell_type": "code",
   "execution_count": 15,
   "metadata": {},
   "outputs": [],
   "source": [
    "NAfilter = covidNA_transformed_df.Country.isin(final_covidNA)\n"
   ]
  },
  {
   "cell_type": "code",
   "execution_count": 16,
   "metadata": {},
   "outputs": [
    {
     "data": {
      "text/html": [
       "<div>\n",
       "<style scoped>\n",
       "    .dataframe tbody tr th:only-of-type {\n",
       "        vertical-align: middle;\n",
       "    }\n",
       "\n",
       "    .dataframe tbody tr th {\n",
       "        vertical-align: top;\n",
       "    }\n",
       "\n",
       "    .dataframe thead th {\n",
       "        text-align: right;\n",
       "    }\n",
       "</style>\n",
       "<table border=\"1\" class=\"dataframe\">\n",
       "  <thead>\n",
       "    <tr style=\"text-align: right;\">\n",
       "      <th></th>\n",
       "      <th>Country</th>\n",
       "      <th>Total_Cases</th>\n",
       "      <th>Total_Deaths</th>\n",
       "      <th>Total_Recovered</th>\n",
       "      <th>Population</th>\n",
       "    </tr>\n",
       "  </thead>\n",
       "  <tbody>\n",
       "    <tr>\n",
       "      <th>0</th>\n",
       "      <td>USA</td>\n",
       "      <td>42,634,054</td>\n",
       "      <td>688,486</td>\n",
       "      <td>32,347,726</td>\n",
       "      <td>333,347,223</td>\n",
       "    </tr>\n",
       "    <tr>\n",
       "      <th>1</th>\n",
       "      <td>Mexico</td>\n",
       "      <td>3,549,229</td>\n",
       "      <td>270,346</td>\n",
       "      <td>2,897,667</td>\n",
       "      <td>130,567,887</td>\n",
       "    </tr>\n",
       "    <tr>\n",
       "      <th>2</th>\n",
       "      <td>Canada</td>\n",
       "      <td>1,564,089</td>\n",
       "      <td>27,325</td>\n",
       "      <td>1,493,619</td>\n",
       "      <td>38,141,706</td>\n",
       "    </tr>\n",
       "  </tbody>\n",
       "</table>\n",
       "</div>"
      ],
      "text/plain": [
       "  Country Total_Cases Total_Deaths Total_Recovered   Population\n",
       "0     USA  42,634,054      688,486      32,347,726  333,347,223\n",
       "1  Mexico   3,549,229      270,346       2,897,667  130,567,887\n",
       "2  Canada   1,564,089       27,325       1,493,619   38,141,706"
      ]
     },
     "execution_count": 16,
     "metadata": {},
     "output_type": "execute_result"
    }
   ],
   "source": [
    "covidNA_transformed_df[NAfilter]\n"
   ]
  },
  {
   "cell_type": "code",
   "execution_count": null,
   "metadata": {},
   "outputs": [],
   "source": []
  },
  {
   "cell_type": "code",
   "execution_count": null,
   "metadata": {},
   "outputs": [],
   "source": []
  }
 ],
 "metadata": {
  "kernelspec": {
   "display_name": "Python 3",
   "language": "python",
   "name": "python3"
  },
  "language_info": {
   "codemirror_mode": {
    "name": "ipython",
    "version": 3
   },
   "file_extension": ".py",
   "mimetype": "text/x-python",
   "name": "python",
   "nbconvert_exporter": "python",
   "pygments_lexer": "ipython3",
   "version": "3.6.10"
  }
 },
 "nbformat": 4,
 "nbformat_minor": 5
}
